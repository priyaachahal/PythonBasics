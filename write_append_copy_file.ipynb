{
 "cells": [
  {
   "cell_type": "code",
   "execution_count": 83,
   "metadata": {},
   "outputs": [
    {
     "name": "stdout",
     "output_type": "stream",
     "text": [
      "hello world\n",
      "there you are\n",
      "this is an additional line\n",
      "\n",
      "converting string to write in a file\n",
      "successfully written\n",
      "End of 1st code\n",
      "*****************************\n",
      "*************************\n",
      "hello world\n",
      "there you are\n",
      "this is an additional line\n",
      "\n",
      "converting string to write in a file\n",
      "successfully written\n"
     ]
    }
   ],
   "source": [
    "alist  = ['\\nconverting string to write in a file', '\\nsuccessfully written' ]\n",
    "\n",
    "with open('/resources/data/Example2.txt','w') as writefile:\n",
    "    writefile.write('hello world\\n')\n",
    "    writefile.write('there you are')\n",
    "\n",
    "with open('/resources/data/Example2.txt','a') as appendfile:\n",
    "    appendfile.write('\\nthis is an additional line\\n')\n",
    "    for i in alist:\n",
    "        appendfile.write(i) #write a list to a file\n",
    "    \n",
    "with open ('/resources/data/Example2.txt','r') as readfile:\n",
    "    file1=readfile.read()\n",
    "    print(file1)\n",
    "    print('End of 1st code\\n*****************************\\n*************************')\n",
    "    \n",
    "#Copy a file to another file\n",
    "with open ('/resources/data/Example2.txt','r') as copyfile:\n",
    "    with open('/resources/data/Example3.txt','w') as pastefile:\n",
    "        for line in copyfile:\n",
    "            pastefile.write(line)\n",
    "\n",
    "#To check Example3.txt file\n",
    "with open('/resources/data/Example3.txt','r') as checkfile:\n",
    "    print(checkfile.read())"
   ]
  },
  {
   "cell_type": "code",
   "execution_count": null,
   "metadata": {},
   "outputs": [],
   "source": []
  },
  {
   "cell_type": "code",
   "execution_count": null,
   "metadata": {},
   "outputs": [],
   "source": []
  }
 ],
 "metadata": {
  "kernelspec": {
   "display_name": "Python",
   "language": "python",
   "name": "conda-env-python-py"
  },
  "language_info": {
   "codemirror_mode": {
    "name": "ipython",
    "version": 3
   },
   "file_extension": ".py",
   "mimetype": "text/x-python",
   "name": "python",
   "nbconvert_exporter": "python",
   "pygments_lexer": "ipython3",
   "version": "3.6.7"
  }
 },
 "nbformat": 4,
 "nbformat_minor": 4
}
